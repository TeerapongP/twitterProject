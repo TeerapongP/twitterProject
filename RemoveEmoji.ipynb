{
 "cells": [
  {
   "cell_type": "code",
   "execution_count": 2,
   "metadata": {},
   "outputs": [],
   "source": [
    "import pandas as pd\n",
    "import findspark\n",
    "findspark.init()\n"
   ]
  },
  {
   "cell_type": "code",
   "execution_count": 3,
   "metadata": {},
   "outputs": [],
   "source": [
    "import pyspark"
   ]
  },
  {
   "cell_type": "code",
   "execution_count": 4,
   "metadata": {},
   "outputs": [],
   "source": [
    "from pyspark import SparkContext\n",
    "from pyspark.sql import SQLContext \n"
   ]
  },
  {
   "cell_type": "code",
   "execution_count": 5,
   "metadata": {},
   "outputs": [
    {
     "name": "stderr",
     "output_type": "stream",
     "text": [
      "C:\\spark\\python\\pyspark\\sql\\context.py:114: FutureWarning: Deprecated in 3.0.0. Use SparkSession.builder.getOrCreate() instead.\n",
      "  FutureWarning,\n"
     ]
    }
   ],
   "source": [
    "sc = SparkContext(\"local\", \"Remove Emoj\")\n",
    "sql = SQLContext(sc)"
   ]
  },
  {
   "cell_type": "code",
   "execution_count": 6,
   "metadata": {},
   "outputs": [],
   "source": [
    "data = pd.read_excel(\"2022-10-03234245798604.xlsx\",sheet_name=\"Sheet1\")"
   ]
  },
  {
   "cell_type": "code",
   "execution_count": 7,
   "metadata": {},
   "outputs": [],
   "source": [
    "df=sql.createDataFrame(data) "
   ]
  },
  {
   "cell_type": "code",
   "execution_count": 8,
   "metadata": {},
   "outputs": [
    {
     "name": "stdout",
     "output_type": "stream",
     "text": [
      "+----------+-------------------+--------------------+-------------------+---------------+---+-----------+-----+----+-------------+--------------------+--------------------+\n",
      "|Unnamed: 0|                 id|                text|         created_at|     screenname|geo|coordinates|place|lang| timestamp_ms|                 url|                json|\n",
      "+----------+-------------------+--------------------+-------------------+---------------+---+-----------+-----+----+-------------+--------------------+--------------------+\n",
      "|         0|1576975770257195008|RT @TANGMO2809: อ...|2022-10-03 16:41:37|       xiaonutt|NaN|        NaN|  NaN|  th|1664815297079|https://twitter.c...|{\"created_at\": \"M...|\n",
      "|         1|1576975772748640256|RT @a_leczz: คนตา...|2022-10-03 16:41:37|         aom_qw|NaN|        NaN|  NaN|  th|1664815297673|https://twitter.c...|{\"created_at\": \"M...|\n",
      "|         2|1576975773613035520|RT @MaliLovEcat: ...|2022-10-03 16:41:37|   AAaa04258494|NaN|        NaN|  NaN|  th|1664815297879|https://twitter.c...|{\"created_at\": \"M...|\n",
      "|         3|1576975776179974144|RT @Panda_P_G7: @...|2022-10-03 16:41:38|      pa_wu1147|NaN|        NaN|  NaN|  th|1664815298491|https://twitter.c...|{\"created_at\": \"M...|\n",
      "|         4|1576975777777582084|RT @Namfahnew02: ...|2022-10-03 16:41:38|     rizrelease|NaN|        NaN|  NaN|  th|1664815298872|https://twitter.c...|{\"created_at\": \"M...|\n",
      "|         5|1576975778402533385|RT @kmsjg_e: รบกว...|2022-10-03 16:41:39|         chmpqr|NaN|        NaN|  NaN|  th|1664815299021|https://twitter.c...|{\"created_at\": \"M...|\n",
      "|         6|1576975779141152769|RT @princesstaev_...|2022-10-03 16:41:39|      arie_yaya|NaN|        NaN|  NaN|  th|1664815299197|https://twitter.c...|{\"created_at\": \"M...|\n",
      "|         7|1576975780374286337|RT @psmark1821: ช...|2022-10-03 16:41:39|         whpijj|NaN|        NaN|  NaN|  th|1664815299491|https://twitter.c...|{\"created_at\": \"M...|\n",
      "|         8|1576975780688859137|RT @Namfahnew02: ...|2022-10-03 16:41:39|       ttarr368|NaN|        NaN|  NaN|  th|1664815299566|https://twitter.c...|{\"created_at\": \"M...|\n",
      "|         9|1576975781519294464|RT @MinSG21: สิ่ง...|2022-10-03 16:41:39|       earn0245|NaN|        NaN|  NaN|  th|1664815299764|https://twitter.c...|{\"created_at\": \"M...|\n",
      "|        10|1576975781548691461|RT @Miller_BJRJ: ...|2022-10-03 16:41:39|      nwsweetyy|NaN|        NaN|  NaN|  th|1664815299771|https://twitter.c...|{\"created_at\": \"M...|\n",
      "|        11|1576975784081620998|RT @Betflix168A: ...|2022-10-03 16:41:40|    kadilamaya1|NaN|        NaN|  NaN|  th|1664815300375|https://twitter.c...|{\"created_at\": \"M...|\n",
      "|        12|1576975788074598401|RT @Namfahnew02: ...|2022-10-03 16:41:41|         nleypp|NaN|        NaN|  NaN|  th|1664815301327|https://twitter.c...|{\"created_at\": \"M...|\n",
      "|        13|1576975789605916673|RT @princesstaev_...|2022-10-03 16:41:41|          AORXu|NaN|        NaN|  NaN|  th|1664815301692|https://twitter.c...|{\"created_at\": \"M...|\n",
      "|        14|1576975789631111168|RT @lolitascak3: ...|2022-10-03 16:41:41|lemonjuicepuupu|NaN|        NaN|  NaN|  th|1664815301698|https://twitter.c...|{\"created_at\": \"M...|\n",
      "|        15|1576975790943899648|RT @TulipJohansso...|2022-10-03 16:41:42|       MoomimBb|NaN|        NaN|  NaN|  th|1664815302011|https://twitter.c...|{\"created_at\": \"M...|\n",
      "|        16|1576975793388806144|RT @lolitascak3: ...|2022-10-03 16:41:42|x4joGbi9yIosVih|NaN|        NaN|  NaN|  th|1664815302594|https://twitter.c...|{\"created_at\": \"M...|\n",
      "|        17|1576975793707970560|RT @a_leczz: คนตา...|2022-10-03 16:41:42|followmydream63|NaN|        NaN|  NaN|  th|1664815302670|https://twitter.c...|{\"created_at\": \"M...|\n",
      "|        18|1576975794085036034|RT @Namfahnew02: ...|2022-10-03 16:41:42|        Heetme1|NaN|        NaN|  NaN|  th|1664815302760|https://twitter.c...|{\"created_at\": \"M...|\n",
      "|        19|1576975794647097344|RT @princesstaev_...|2022-10-03 16:41:42|        JMNYOKS|NaN|        NaN|  NaN|  th|1664815302894|https://twitter.c...|{\"created_at\": \"M...|\n",
      "+----------+-------------------+--------------------+-------------------+---------------+---+-----------+-----+----+-------------+--------------------+--------------------+\n",
      "only showing top 20 rows\n",
      "\n"
     ]
    }
   ],
   "source": [
    "df.show()"
   ]
  },
  {
   "cell_type": "code",
   "execution_count": 9,
   "metadata": {},
   "outputs": [
    {
     "data": {
      "text/plain": [
       "['Unnamed: 0',\n",
       " 'id',\n",
       " 'text',\n",
       " 'created_at',\n",
       " 'screenname',\n",
       " 'geo',\n",
       " 'coordinates',\n",
       " 'place',\n",
       " 'lang',\n",
       " 'timestamp_ms',\n",
       " 'url',\n",
       " 'json']"
      ]
     },
     "execution_count": 9,
     "metadata": {},
     "output_type": "execute_result"
    }
   ],
   "source": [
    "# Columns\n",
    "df.columns"
   ]
  },
  {
   "cell_type": "code",
   "execution_count": 10,
   "metadata": {},
   "outputs": [
    {
     "name": "stdout",
     "output_type": "stream",
     "text": [
      "+--------------------+\n",
      "|                text|\n",
      "+--------------------+\n",
      "|RT @TANGMO2809: อ...|\n",
      "|RT @a_leczz: คนตา...|\n",
      "|RT @MaliLovEcat: ...|\n",
      "|RT @Panda_P_G7: @...|\n",
      "|RT @Namfahnew02: ...|\n",
      "|RT @kmsjg_e: รบกว...|\n",
      "|RT @princesstaev_...|\n",
      "|RT @psmark1821: ช...|\n",
      "|RT @Namfahnew02: ...|\n",
      "|RT @MinSG21: สิ่ง...|\n",
      "|RT @Miller_BJRJ: ...|\n",
      "|RT @Betflix168A: ...|\n",
      "|RT @Namfahnew02: ...|\n",
      "|RT @princesstaev_...|\n",
      "|RT @lolitascak3: ...|\n",
      "|RT @TulipJohansso...|\n",
      "|RT @lolitascak3: ...|\n",
      "|RT @a_leczz: คนตา...|\n",
      "|RT @Namfahnew02: ...|\n",
      "|RT @princesstaev_...|\n",
      "+--------------------+\n",
      "only showing top 20 rows\n",
      "\n"
     ]
    }
   ],
   "source": [
    "# Select Columns\n",
    "df.select('text').show()"
   ]
  },
  {
   "cell_type": "code",
   "execution_count": 11,
   "metadata": {},
   "outputs": [],
   "source": [
    "df = df.select('text')"
   ]
  },
  {
   "cell_type": "code",
   "execution_count": 12,
   "metadata": {},
   "outputs": [
    {
     "name": "stdout",
     "output_type": "stream",
     "text": [
      "+--------------------+\n",
      "|                text|\n",
      "+--------------------+\n",
      "|RT @TANGMO2809: อ...|\n",
      "|RT @a_leczz: คนตา...|\n",
      "|RT @MaliLovEcat: ...|\n",
      "|RT @Panda_P_G7: @...|\n",
      "|RT @Namfahnew02: ...|\n",
      "|RT @kmsjg_e: รบกว...|\n",
      "|RT @princesstaev_...|\n",
      "|RT @psmark1821: ช...|\n",
      "|RT @Namfahnew02: ...|\n",
      "|RT @MinSG21: สิ่ง...|\n",
      "|RT @Miller_BJRJ: ...|\n",
      "|RT @Betflix168A: ...|\n",
      "|RT @Namfahnew02: ...|\n",
      "|RT @princesstaev_...|\n",
      "|RT @lolitascak3: ...|\n",
      "|RT @TulipJohansso...|\n",
      "|RT @lolitascak3: ...|\n",
      "|RT @a_leczz: คนตา...|\n",
      "|RT @Namfahnew02: ...|\n",
      "|RT @princesstaev_...|\n",
      "+--------------------+\n",
      "only showing top 20 rows\n",
      "\n"
     ]
    }
   ],
   "source": [
    "df.show()"
   ]
  },
  {
   "cell_type": "code",
   "execution_count": 13,
   "metadata": {},
   "outputs": [
    {
     "name": "stdout",
     "output_type": "stream",
     "text": [
      "+--------------------+-----+\n",
      "|                text|count|\n",
      "+--------------------+-----+\n",
      "|RT @haha0861: เลิ...|    1|\n",
      "|RT @lolitascak3: ...|    4|\n",
      "|RT @TANGMO2809: อ...|    7|\n",
      "|RT @viewclub: อย่...|    1|\n",
      "|RT @Quinzelyn1996...|    2|\n",
      "|RT @AnonymousCiti...|    1|\n",
      "|RT @TulipJohansso...|    1|\n",
      "|RT @ct18zo: ข่าวไ...|    2|\n",
      "|RT @Panda_P_G7: @...|    1|\n",
      "|RT @khanseokki: ไ...|    1|\n",
      "|RT @Chaifluke: สื...|    8|\n",
      "|RT @Betflix168A: ...|    1|\n",
      "|RT @kmsjg_e: รบกว...|    2|\n",
      "|RT @Miller_BJRJ: ...|    3|\n",
      "|RT @klaxdee: ชั้น...|    1|\n",
      "|RT @kate4q13: สมา...|    1|\n",
      "|RT @MVDeepQuotes:...|    1|\n",
      "|RT @MaliLovEcat: ...|    1|\n",
      "|RT @JibiiGd: ติดส...|    1|\n",
      "|RT @PPKV_PPzz: ดู...|    1|\n",
      "+--------------------+-----+\n",
      "only showing top 20 rows\n",
      "\n"
     ]
    }
   ],
   "source": [
    "# Value Counts\n",
    "df.groupBy('text').count().show()"
   ]
  },
  {
   "cell_type": "code",
   "execution_count": 14,
   "metadata": {},
   "outputs": [
    {
     "data": {
      "text/plain": [
       "RT @TulipJohansson: ขอโทษนะที่แคปทัน5555555555 #เด็ก16ผ่าไฟแดงชนคนตาย https://t.co/q8RDtyrCb1                                                        9\n",
       "RT @a_leczz: คนตายเป็นวิศวกร บ้านฐานะไม่ดี พ่อทุ่มเทส่งเรียนเพิ่งจบรับปริญญา เป็นเสาหลัก เป็นความหวังของบ้าน ถูกลูกคนรวย #เด็ก16ผ่าไฟแดงชนค…         8\n",
       "RT @Chaifluke: สื่อต้องหยุดเล่นข่าวว่าชนคนได้เกียรตินิยม เงินเดือนส่งให้ที่บ้านเท่าไร สื่อควรไปแหกว่าอีเด็กนี่ลูกใคร พ่อแม่ชื่ออะไร เอารถมา…         8\n",
       "RT @TANGMO2809: อายุ 16 ขับรถ BM ชนคนตาย ไม่อยากให้เป็นข่าวเพราะเตรียมเป็นนักกีฬาทีมชาติ และพ่อแม่มีเส้นสายพอสมควร ชีวิตลูกมึงยังสำคัญเลย แ…         7\n",
       "RT @princesstaev__: -คนชนต้องถูกปลดออกจากการเป็นนักกีฬาทีมชาติ\\n-พ่อแม่คนชนควรให้เงินเยียวยาพ่อแม่ผู้ตาย อิงจากเงินเดือนสาขาที่ผู้ตายจบมา\\n-ใ…       7\n",
       "RT @Namfahnew02: มึงลงมาแล้วหันไปดูพี่กูก่อนค่ะ ไม่ใช่ เดินชิวๆ ถ่ายสตอรี่ อห. 🤬🤬 #เด็ก16ผ่าไฟแดงชนคนตาย https://t.co/6iFoZkhioE                     5\n",
       "RT @Namfahnew02: คู่กรณี บ้านรวย พ่อแม่ทำธุรกิจเกี่ยวกับกีฬา มีการร่วมหุ้นกันกับ นามสกุลดัง เมืองบุรีรัมย์(ช ช) มี1คนในรถ พ่อเป็นตำรวจใหญ่…          5\n",
       "RT @lolitascak3: สรุปประเด็นเรื่อง #เด็ก16ผ่าไฟแดงชนคนตาย\\n•เรื่องเกิดตอนคืนวันที่ 1 ตุลาที่นครราชสีมา\\n•พี่เต้(ผู้ตาย)ขี่มอไซค์จากที่ทำงานจะ…       4\n",
       "RT @_ascorbic_acid_: มันจริงมากอ่ะ ถ้าไม่ทำให้เด็กเห็นเด็กก็จะคิดว่า ทำอะไรก็ได้ยังไงโทษมันก็ไม่ได้ร้ายแรง #เด็ก16ผ่าไฟแดงชนคนตาย https://t…         4\n",
       "RT @RedSkullxxx: คืออีเหี้ยลูกมึงอายุ 16 ปล่อยให้ขัยรถไปชนคนตาย เผลอๆแดกเหล้าเมามาด้วย มึงไม่อยากให้ลูกมึงเสียอนาคตเพราะกำลังวางแผนถึงระดับ…         4\n",
       "RT @TulipJohansson: ชนเพื่อนเราเสียตั้งแต่วันศุกร์ ข้อมูลเหยื่อมีเท่าไหร่ขุดมาทำข่าวหมด แต่ข้อมูลฝั่งฆาตกรที่เรียกตัวเองว่าเป็น ‘เยาวชน’ แ…          4\n",
       "RT @Miller_BJRJ: ตัวเองยังไปสอบแบบห่วงอนาคตได้เลย แล้วเหยื่อที่เขาก็ต้องมีอนาคตที่ดีเหมือนกัน ดับอนาคตเขาแล้ว ยังห่วงอนาคตตัวเองอีกหรอ ทั้ง…         3\n",
       "RT @Quinzelyn1996: ผู้เสียชีวิต เป็นคนดี เป็นจิตอาสา เรียนดี มีการงานทำ ตอนขับรถกลับ ก็กำลังกลับจากการทำงาน อีกไม่นานจะต่อป.โท ครอบครัวและป…         3\n",
       "RT @Namfahnew02: รบกวนพี่ๆที่ผ่านมาเห็น ช่วยรีทวิตและติดแท็ก #เด็ก16ผ่าไฟแดงชนคนตาย ให้เราด้วย ขอความเป็นธรรมให้เพื่อนสนิทพี่ชายเราโดนเด็กอ…         3\n",
       "RT @psmark1821: ช่วยกันดันข่าวนี้ค่ะ อย่าให้เรื่องเงียบ! \\n\\nแค่คนละ1รีทวิตเพื่อเป็นกระบอกเสียงกันนะ คนรวยไม่ได้แปลว่าทำไรก็ไม่ผิดปะ ไอสัส…          2\n",
       "RT @kmsjg_e: รบกวนทุกคนช่วยดันแท็กนี้ทีนะคะ ครอบครัวเด็กเงียบมาก ยังไม่มีการติดต่อมาดูแล พูดคุยหรือขอโทษเลยค่ะ #เด็ก16ผ่าไฟแดงชนคนตาย                2\n",
       "RT @ct18zo: ข่าวไม่เผยข้อมูล กูบอกแล้วอย่าต้องให้ชาวเน็ตขุด😏 เตรียมทัวร์เลยจ้า\\n\\n #เด็ก16ผ่าไฟแดงชนคนตาย https://t.co/C4FT3e6VDU                    2\n",
       "RT @Quinzelyn1996: ล่าสุดบอกว่ามาให้ปากคำไม่ได้ เพราะ “ช่วงสอบ” \\nฆ่าคนตาย ยังมีกระจิต กระใจไปสอบ เก่งเนอะ\\nช่วง สอบ แต่ไปเมา ไปขับรถผิดกฏหมา…       2\n",
       "RT @MVDeepQuotes: \"ได้ยินว่าถ้ายังเป็นเยาวชน ต่อให้ฆ่าคนก็ไม่ต้องติดคุกนี่\"\\n\\n- Juvenile Justice -\\n#เด็ก16ผ่าไฟแดงชนคนตาย https://t.co/i2ITb…      1\n",
       "RT @AnonymousCitiz9: สุดท้ายอิเด็กนรกนี่ก็จะถูกพ่อแม่ส่งไปชุบตัวอยู่เมืองนอกให้เรื่องเงียบ พอกลับไทยก็มาใช้ชีวิตดี กินหรู อยู่สบาย แต่งงาน…          1\n",
       "RT @kate4q13: สมาคมเทนนิสทำอะไรอยู่ อายุยังไม่ถึงเกณฑ์ ไม่มีใบขับขี่ ดื่มของมึนเมา ฝ่าไฟแดง ถ้าไม่ถอดออกก็ไม่รู้จะว่ายังไง คนแบบนี้คือคนที่…         1\n",
       "RT @AJSEIYA_23: แท็กเดียวกี่ข้อหาก่อน \\n- เป็นเยาวชน  \\n- เมา\\n- ไม่มีใบขับขี่\\n- อายุไม่ถึงเข้าร้าน ร้านไม่ตรวจ?\\n- อายุไม่ถึงขับรถบนถนน\\n- แต่…    1\n",
       "RT @phattar18: เพื่อนมึงไม่ใช่เด็กไม่ดีแต่เป็นเด็กเลว ทำคนคนนึงตายเพราะความเลวของตัวเอง #เด็ก16ผ่าไฟแดงชนคนตาย                                       1\n",
       "RT @TulipJohansson: และสุดท้ายคนขับก็จะรอด ส่วนผู้สูญเสีย ก็ทำได้แค่ยอมรับความจริง นี่แหละที่เราโคตรเกลียด\\n\\n#เยาวชนทีมชาติผ่าไฟแดงชนคนตาย #…       1\n",
       "RT @haha0861: เลิกเอาคำว่าเด็กเยาวชนมาอ้างได้แล้ว ผิดก็คือผิดเถอะ รู้อยู่แก่ใจที่ขับรถแล้ว ตัวเองอายุไม่ถึง20ไม่มีใบอนุญาต ดื่มเหล้า มันเป็…         1\n",
       "RT @khanseokki: ไปแชร์กันค่ะทุกคน พ่อของ ฆตก ยังไม่ปิดเฟซ ไปดูความภาคภูมิใจของลูกชายเขาหน่อยค่ะ อนาคตของชาติ \\n\\n#เด็ก16ผ่าไฟแดงชนคนตาย https…       1\n",
       "RT @PPKV_PPzz: ดูแต่ละแท็ก #ฆ่าหั่นศพ #เด็ก16ผ่าไฟแดงชนคนตาย #น้ําท่วมเชียงใหม่ เป็นเช้าที่หดหู่ดีจังอ่ะ https://t.co/xYbZrjvCrp                     1\n",
       "RT @klaxdee: ชั้นต่ำมาก มีหน้ามาอัพสตอรี่ ควาย!! #เด็ก16ผ่าไฟแดงชนคนตาย https://t.co/6km57tTZzN                                                      1\n",
       "RT @thiitst: เยาวชนที่ทุกคนถามหา แคปชั่นเส้นทางสู่ฝันหลังจากที่ไปชนเพื่อนเราตาย\\n#เด็ก16ผ่าไฟแดงชนคนตาย #โหนกระแส #อมรินทร์ทีวีเอชดีช่อง34 h…        1\n",
       "RT @Jukjikjukjik1: เอาจริงๆ เป็นข้ออ้างที่เหี้ยมากกกกกกกกกก เพราะเป็นลูกคนรวยด้วยแหละ เป็นคนจนๆอะนะ ตำรวจจับได้ตั้งแต่วันแรกแล้วอะ สอบแล้วไ…         1\n",
       "RT @viewclub: อย่าให้ได้ยินพ่อแม่มันมาบอกว่า\"เดฟเป็นเด็กดี เดฟกำลังจะมีอนาคตที่สดใส น้องทำผิดครั้งแรกวอนสังคมให้อภัยน้อง\"นะ คนที่ไอ้เดฟมันไ…         1\n",
       "RT @she_is_yuyah: ก็คือถ้าคุณลุงมีชีวิตอยู่ เขาก็หาได้เยอะกว่า 20 ล้านไง #เด็ก16ผ่าไฟแดงชนคนตาย                                                      1\n",
       "RT @Betflix168A: BETFLIX168ASIA\\n🔴รับง่ายเพียงขั้นตอนเดียว\\n📱 คลิก : https://t.co/wh7yTLS6Lo\\n\\n#เครดิตฟรี #เครดิตฟรีไม่ต้องฝาก \\n#เครดิตฟรีกดรั…    1\n",
       "RT @MinSG21: สิ่งที่ต้องการจากแท็คนี้และจากสื่อคือแหกครอบครัวนี้ เป็นใคร บ้านทำธุรกิจอะไร และไม่ใช่แค่เด็กคนนี้แต่ยังมีอีก2คนที่นั่งรถมาพร้…         1\n",
       "RT @Panda_P_G7: @Namfahnew02 รู้ว่าชนคน คนทั่วไปก็น่าจะวิ่งไปดูคนเจ็บมั้ย ถ้าพอทำไรได้ก็ให้การช่วยเหลือเบื้องต้น ยิ่งรถตัวเองแข็งขนาดนั้น ไ…         1\n",
       "RT @MaliLovEcat: พวกหนูแมวที่เคยถูกทิ้ง เคยโดนทำร้ายมาขอความเมตตา..ขออาหารกับทรายแมวให้พวกหนูด้วยตอนนี้เริ่มหมดอีกแล้ว เพียงบริจาคท่านละ5-1…         1\n",
       "RT @JibiiGd: ติดสอบแต่ไปกินเหล้า งงนะ ไปปลุกไฟในการสอบที่ร้านเหล้าเบ๋อ ขับรถไปกินเหล้าได้ แต่ไม่มีปัญญาขับรถไปรับผิดชอบ สันดาน #เด็ก16ผ่าไฟ…         1\n",
       "Name: text, dtype: int64"
      ]
     },
     "execution_count": 14,
     "metadata": {},
     "output_type": "execute_result"
    }
   ],
   "source": [
    "# Value Counts via pandas\n",
    "df.toPandas()['text'].value_counts()"
   ]
  },
  {
   "cell_type": "code",
   "execution_count": 31,
   "metadata": {},
   "outputs": [
    {
     "data": {
      "text/plain": [
       "[('text', 'string')]"
      ]
     },
     "execution_count": 31,
     "metadata": {},
     "output_type": "execute_result"
    }
   ],
   "source": [
    "df.dtypes"
   ]
  },
  {
   "cell_type": "code",
   "execution_count": 34,
   "metadata": {},
   "outputs": [
    {
     "ename": "NameError",
     "evalue": "name 'text' is not defined",
     "output_type": "error",
     "traceback": [
      "\u001b[1;31m---------------------------------------------------------------------------\u001b[0m",
      "\u001b[1;31mNameError\u001b[0m                                 Traceback (most recent call last)",
      "\u001b[1;32m<ipython-input-34-e0211cbce30a>\u001b[0m in \u001b[0;36m<module>\u001b[1;34m\u001b[0m\n\u001b[1;32m----> 1\u001b[1;33m \u001b[0mprint\u001b[0m\u001b[1;33m(\u001b[0m\u001b[0mtext\u001b[0m\u001b[1;33m)\u001b[0m\u001b[1;33m\u001b[0m\u001b[1;33m\u001b[0m\u001b[0m\n\u001b[0m",
      "\u001b[1;31mNameError\u001b[0m: name 'text' is not defined"
     ]
    }
   ],
   "source": []
  },
  {
   "cell_type": "code",
   "execution_count": null,
   "metadata": {},
   "outputs": [],
   "source": []
  }
 ],
 "metadata": {
  "kernelspec": {
   "display_name": "Python 3",
   "language": "python",
   "name": "python3"
  },
  "language_info": {
   "codemirror_mode": {
    "name": "ipython",
    "version": 3
   },
   "file_extension": ".py",
   "mimetype": "text/x-python",
   "name": "python",
   "nbconvert_exporter": "python",
   "pygments_lexer": "ipython3",
   "version": "3.7.4"
  }
 },
 "nbformat": 4,
 "nbformat_minor": 2
}
