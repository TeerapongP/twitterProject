{
 "cells": [
  {
   "cell_type": "code",
   "execution_count": 1,
   "id": "69c75360",
   "metadata": {},
   "outputs": [],
   "source": [
    "import findspark\n",
    "findspark.init()"
   ]
  },
  {
   "cell_type": "code",
   "execution_count": 2,
   "id": "da611c80",
   "metadata": {},
   "outputs": [],
   "source": [
    "# Load Pkgs\n",
    "from pyspark import SparkContext\n"
   ]
  },
  {
   "cell_type": "code",
   "execution_count": 3,
   "id": "2de78b65",
   "metadata": {},
   "outputs": [],
   "source": [
    "sc = SparkContext(master=\"local[2]\")"
   ]
  },
  {
   "cell_type": "code",
   "execution_count": 4,
   "id": "9ca18690",
   "metadata": {},
   "outputs": [
    {
     "data": {
      "text/html": [
       "\n",
       "        <div>\n",
       "            <p><b>SparkContext</b></p>\n",
       "\n",
       "            <p><a href=\"http://DESKTOP-CTG1V72:4040\">Spark UI</a></p>\n",
       "\n",
       "            <dl>\n",
       "              <dt>Version</dt>\n",
       "                <dd><code>v3.3.0</code></dd>\n",
       "              <dt>Master</dt>\n",
       "                <dd><code>local[2]</code></dd>\n",
       "              <dt>AppName</dt>\n",
       "                <dd><code>pyspark-shell</code></dd>\n",
       "            </dl>\n",
       "        </div>\n",
       "        "
      ],
      "text/plain": [
       "<SparkContext master=local[2] appName=pyspark-shell>"
      ]
     },
     "execution_count": 4,
     "metadata": {},
     "output_type": "execute_result"
    }
   ],
   "source": [
    "# Launch UI\n",
    "sc"
   ]
  },
  {
   "cell_type": "code",
   "execution_count": 5,
   "id": "ffaf79c6",
   "metadata": {},
   "outputs": [],
   "source": [
    "# Create A Spark Session\n",
    "from pyspark.sql import SparkSession"
   ]
  },
  {
   "cell_type": "code",
   "execution_count": 6,
   "id": "05ae1c9a",
   "metadata": {},
   "outputs": [],
   "source": [
    "spark = SparkSession.builder.appName(\"TextClassifierwithPySpark\").getOrCreate()"
   ]
  },
  {
   "cell_type": "code",
   "execution_count": 7,
   "id": "9df37181",
   "metadata": {},
   "outputs": [],
   "source": [
    "df = spark.read.csv('clean-datas/CSV/TwitterCleanData.csv',header=True,inferSchema=True)"
   ]
  },
  {
   "cell_type": "code",
   "execution_count": 8,
   "id": "09c0bbc1",
   "metadata": {},
   "outputs": [
    {
     "name": "stdout",
     "output_type": "stream",
     "text": [
      "+--------------------+--------------------+---------+-----------+\n",
      "|       Cleaning_Data|          tweet_text|Sentiment|      Score|\n",
      "+--------------------+--------------------+---------+-----------+\n",
      "|อุบลจะจมบาดาลแล้ว...|Ubon will sink th...| positive|0.832284749|\n",
      "|สนใจงานออนไลน์หาร...|Interested in onl...|  neutral|0.490034372|\n",
      "|งั้นหอเตือนภัยก็ไ...|Then the warning ...| positive|0.696456373|\n",
      "|ที่ดันเเท็กกันอยู...|That always pushe...| negative| 0.16305086|\n",
      "|นี่คือบ้านของเราเ...|This is our own h...| negative| 0.11365597|\n",
      "|เมื่อไหร่สำนักข่า...|When will the new...|  neutral|0.470360577|\n",
      "|น้องๆน่าสงสารมากก...|The children are ...| positive|0.929796815|\n",
      "|ฝากรีหน่อยค่ะคุณย...|Please leave. Gra...| negative|0.183924094|\n",
      "|น้ำท่วมอุบลวันนี้...|Ubon floods today...| negative|0.151835471|\n",
      "|ย้ำตอนนี้น้ำไฟถูก...|Repeatedly, the w...| negative|0.112731948|\n",
      "|ถูกตัดขาดคือแล้วย...|What is the cut -...|  neutral|0.594515324|\n",
      "|ไม่ใช่ทางม้าลายแต...|Not a crosswalk, ...| negative|0.193144724|\n",
      "|งานดีรีวิวแน่นมาก...|Good work, very t...| positive|0.959444702|\n",
      "|เหมือนพวกเราถูกลื...|As if we were for...| negative|0.019509824|\n",
      "|น้ําท่วมอุบลอีสาน...|The floods of Ubo...| negative|0.337577641|\n",
      "|ช่วยกันรีทวิตกระจ...|Help each other t...| positive|0.704152524|\n",
      "|อมกมีคนจมน้ำเสียช...|Om, there are peo...| negative|0.027421393|\n",
      "|น้ำใกล้โรงพยาบาลเ...|The water is near...| negative|0.221018955|\n",
      "|สงสารทุกคนที่ได้ร...|Pity everyone who...| positive|0.733641982|\n",
      "|บ้านเราเองท่วมมาจ...|Our own house has...| negative|0.157709122|\n",
      "+--------------------+--------------------+---------+-----------+\n",
      "only showing top 20 rows\n",
      "\n"
     ]
    }
   ],
   "source": [
    "df.show()"
   ]
  },
  {
   "cell_type": "code",
   "execution_count": 9,
   "id": "9b6e57de",
   "metadata": {},
   "outputs": [
    {
     "data": {
      "text/plain": [
       "['Cleaning_Data', 'tweet_text', 'Sentiment', 'Score']"
      ]
     },
     "execution_count": 9,
     "metadata": {},
     "output_type": "execute_result"
    }
   ],
   "source": [
    "# Columns\n",
    "df.columns"
   ]
  },
  {
   "cell_type": "code",
   "execution_count": 10,
   "id": "a309007b",
   "metadata": {},
   "outputs": [
    {
     "name": "stdout",
     "output_type": "stream",
     "text": [
      "+--------------------+---------+\n",
      "|          tweet_text|Sentiment|\n",
      "+--------------------+---------+\n",
      "|Ubon will sink th...| positive|\n",
      "|Interested in onl...|  neutral|\n",
      "|Then the warning ...| positive|\n",
      "|That always pushe...| negative|\n",
      "|This is our own h...| negative|\n",
      "|When will the new...|  neutral|\n",
      "|The children are ...| positive|\n",
      "|Please leave. Gra...| negative|\n",
      "|Ubon floods today...| negative|\n",
      "|Repeatedly, the w...| negative|\n",
      "|What is the cut -...|  neutral|\n",
      "|Not a crosswalk, ...| negative|\n",
      "|Good work, very t...| positive|\n",
      "|As if we were for...| negative|\n",
      "|The floods of Ubo...| negative|\n",
      "|Help each other t...| positive|\n",
      "|Om, there are peo...| negative|\n",
      "|The water is near...| negative|\n",
      "|Pity everyone who...| positive|\n",
      "|Our own house has...| negative|\n",
      "+--------------------+---------+\n",
      "only showing top 20 rows\n",
      "\n"
     ]
    }
   ],
   "source": [
    "# Select Columns\n",
    "df.select('tweet_text','Sentiment').show()"
   ]
  },
  {
   "cell_type": "code",
   "execution_count": 11,
   "id": "7b30985e",
   "metadata": {},
   "outputs": [],
   "source": [
    "df = df.select('tweet_text','Sentiment')"
   ]
  },
  {
   "cell_type": "code",
   "execution_count": 12,
   "id": "84ed459d",
   "metadata": {},
   "outputs": [
    {
     "name": "stdout",
     "output_type": "stream",
     "text": [
      "+--------------------+---------+\n",
      "|          tweet_text|Sentiment|\n",
      "+--------------------+---------+\n",
      "|Ubon will sink th...| positive|\n",
      "|Interested in onl...|  neutral|\n",
      "|Then the warning ...| positive|\n",
      "|That always pushe...| negative|\n",
      "|This is our own h...| negative|\n",
      "+--------------------+---------+\n",
      "only showing top 5 rows\n",
      "\n"
     ]
    }
   ],
   "source": [
    "df.show(5)"
   ]
  },
  {
   "cell_type": "code",
   "execution_count": 13,
   "id": "87e3c307",
   "metadata": {},
   "outputs": [
    {
     "name": "stdout",
     "output_type": "stream",
     "text": [
      "+---------+-----+\n",
      "|Sentiment|count|\n",
      "+---------+-----+\n",
      "| positive|  733|\n",
      "|  neutral|  287|\n",
      "| negative|  803|\n",
      "+---------+-----+\n",
      "\n"
     ]
    }
   ],
   "source": [
    "# Value Counts\n",
    "df.groupBy('Sentiment').count().show()"
   ]
  },
  {
   "cell_type": "code",
   "execution_count": 14,
   "id": "bd98a4d7",
   "metadata": {},
   "outputs": [
    {
     "data": {
      "text/plain": [
       "negative    803\n",
       "positive    733\n",
       "neutral     287\n",
       "Name: Sentiment, dtype: int64"
      ]
     },
     "execution_count": 14,
     "metadata": {},
     "output_type": "execute_result"
    }
   ],
   "source": [
    "# Value Counts via pandas\n",
    "df.toPandas()['Sentiment'].value_counts()"
   ]
  },
  {
   "cell_type": "code",
   "execution_count": 15,
   "id": "e2f2e891",
   "metadata": {},
   "outputs": [
    {
     "data": {
      "text/plain": [
       "0"
      ]
     },
     "execution_count": 15,
     "metadata": {},
     "output_type": "execute_result"
    }
   ],
   "source": [
    "# Check For Missing Values\n",
    "df.toPandas()['Sentiment'].isnull().sum()"
   ]
  },
  {
   "cell_type": "code",
   "execution_count": 16,
   "id": "58e6810c",
   "metadata": {},
   "outputs": [],
   "source": [
    "# Drop Missing Values\n",
    "df = df.dropna(subset=('Sentiment'))"
   ]
  },
  {
   "cell_type": "code",
   "execution_count": 17,
   "id": "8f0949c3",
   "metadata": {},
   "outputs": [
    {
     "data": {
      "text/plain": [
       "0"
      ]
     },
     "execution_count": 17,
     "metadata": {},
     "output_type": "execute_result"
    }
   ],
   "source": [
    "# Check For Missing Values\n",
    "df.toPandas()['Sentiment'].isnull().sum()"
   ]
  },
  {
   "cell_type": "code",
   "execution_count": 18,
   "id": "95f8fabe",
   "metadata": {},
   "outputs": [
    {
     "name": "stdout",
     "output_type": "stream",
     "text": [
      "+--------------------+---------+\n",
      "|          tweet_text|Sentiment|\n",
      "+--------------------+---------+\n",
      "|Ubon will sink th...| positive|\n",
      "|Interested in onl...|  neutral|\n",
      "|Then the warning ...| positive|\n",
      "|That always pushe...| negative|\n",
      "|This is our own h...| negative|\n",
      "+--------------------+---------+\n",
      "only showing top 5 rows\n",
      "\n"
     ]
    }
   ],
   "source": [
    "df.show(5)"
   ]
  },
  {
   "cell_type": "code",
   "execution_count": 19,
   "id": "4386392f",
   "metadata": {},
   "outputs": [],
   "source": [
    "# Load Our Pkgs\n",
    "import pyspark.ml.feature"
   ]
  },
  {
   "cell_type": "code",
   "execution_count": 20,
   "id": "b072cfc2",
   "metadata": {},
   "outputs": [
    {
     "data": {
      "text/plain": [
       "['Any',\n",
       " 'Binarizer',\n",
       " 'BucketedRandomProjectionLSH',\n",
       " 'BucketedRandomProjectionLSHModel',\n",
       " 'Bucketizer',\n",
       " 'ChiSqSelector',\n",
       " 'ChiSqSelectorModel',\n",
       " 'CountVectorizer',\n",
       " 'CountVectorizerModel',\n",
       " 'DCT',\n",
       " 'DataFrame',\n",
       " 'DenseMatrix',\n",
       " 'DenseVector',\n",
       " 'Dict',\n",
       " 'ElementwiseProduct',\n",
       " 'FeatureHasher',\n",
       " 'Generic',\n",
       " 'HasFeaturesCol',\n",
       " 'HasHandleInvalid',\n",
       " 'HasInputCol',\n",
       " 'HasInputCols',\n",
       " 'HasLabelCol',\n",
       " 'HasMaxIter',\n",
       " 'HasNumFeatures',\n",
       " 'HasOutputCol',\n",
       " 'HasOutputCols',\n",
       " 'HasRelativeError',\n",
       " 'HasSeed',\n",
       " 'HasStepSize',\n",
       " 'HasThreshold',\n",
       " 'HasThresholds',\n",
       " 'HashingTF',\n",
       " 'IDF',\n",
       " 'IDFModel',\n",
       " 'Imputer',\n",
       " 'ImputerModel',\n",
       " 'IndexToString',\n",
       " 'Interaction',\n",
       " 'JM',\n",
       " 'JavaEstimator',\n",
       " 'JavaMLReadable',\n",
       " 'JavaMLWritable',\n",
       " 'JavaModel',\n",
       " 'JavaParams',\n",
       " 'JavaTransformer',\n",
       " 'List',\n",
       " 'MaxAbsScaler',\n",
       " 'MaxAbsScalerModel',\n",
       " 'MinHashLSH',\n",
       " 'MinHashLSHModel',\n",
       " 'MinMaxScaler',\n",
       " 'MinMaxScalerModel',\n",
       " 'NGram',\n",
       " 'Normalizer',\n",
       " 'OneHotEncoder',\n",
       " 'OneHotEncoderModel',\n",
       " 'Optional',\n",
       " 'P',\n",
       " 'PCA',\n",
       " 'PCAModel',\n",
       " 'Param',\n",
       " 'Params',\n",
       " 'PolynomialExpansion',\n",
       " 'QuantileDiscretizer',\n",
       " 'RFormula',\n",
       " 'RFormulaModel',\n",
       " 'RegexTokenizer',\n",
       " 'RobustScaler',\n",
       " 'RobustScalerModel',\n",
       " 'SQLTransformer',\n",
       " 'SparkContext',\n",
       " 'StandardScaler',\n",
       " 'StandardScalerModel',\n",
       " 'StopWordsRemover',\n",
       " 'StringIndexer',\n",
       " 'StringIndexerModel',\n",
       " 'TYPE_CHECKING',\n",
       " 'Tokenizer',\n",
       " 'Tuple',\n",
       " 'TypeConverters',\n",
       " 'TypeVar',\n",
       " 'Union',\n",
       " 'UnivariateFeatureSelector',\n",
       " 'UnivariateFeatureSelectorModel',\n",
       " 'VarianceThresholdSelector',\n",
       " 'VarianceThresholdSelectorModel',\n",
       " 'Vector',\n",
       " 'VectorAssembler',\n",
       " 'VectorIndexer',\n",
       " 'VectorIndexerModel',\n",
       " 'VectorSizeHint',\n",
       " 'VectorSlicer',\n",
       " 'Word2Vec',\n",
       " 'Word2VecModel',\n",
       " '_BucketedRandomProjectionLSHParams',\n",
       " '_CountVectorizerParams',\n",
       " '_IDFParams',\n",
       " '_ImputerParams',\n",
       " '_LSH',\n",
       " '_LSHModel',\n",
       " '_LSHParams',\n",
       " '_MaxAbsScalerParams',\n",
       " '_MinMaxScalerParams',\n",
       " '_OneHotEncoderParams',\n",
       " '_PCAParams',\n",
       " '_RFormulaParams',\n",
       " '_RobustScalerParams',\n",
       " '_Selector',\n",
       " '_SelectorModel',\n",
       " '_SelectorParams',\n",
       " '_StandardScalerParams',\n",
       " '_StringIndexerParams',\n",
       " '_UnivariateFeatureSelectorParams',\n",
       " '_VarianceThresholdSelectorParams',\n",
       " '_VectorIndexerParams',\n",
       " '_Word2VecParams',\n",
       " '__all__',\n",
       " '__builtins__',\n",
       " '__cached__',\n",
       " '__doc__',\n",
       " '__file__',\n",
       " '__loader__',\n",
       " '__name__',\n",
       " '__package__',\n",
       " '__spec__',\n",
       " '_convert_to_vector',\n",
       " '_jvm',\n",
       " 'cast',\n",
       " 'inherit_doc',\n",
       " 'keyword_only',\n",
       " 'overload',\n",
       " 'since']"
      ]
     },
     "execution_count": 20,
     "metadata": {},
     "output_type": "execute_result"
    }
   ],
   "source": [
    "dir(pyspark.ml.feature)"
   ]
  },
  {
   "cell_type": "code",
   "execution_count": 21,
   "id": "e65be575",
   "metadata": {},
   "outputs": [],
   "source": [
    "# Load Our Transformer & Extractor Pkgs\n",
    "from pyspark.ml.feature import Tokenizer,StopWordsRemover,CountVectorizer,IDF\n",
    "from pyspark.ml.feature import StringIndexer"
   ]
  },
  {
   "cell_type": "code",
   "execution_count": 22,
   "id": "ce46b142",
   "metadata": {},
   "outputs": [
    {
     "name": "stdout",
     "output_type": "stream",
     "text": [
      "+--------------------+---------+\n",
      "|          tweet_text|Sentiment|\n",
      "+--------------------+---------+\n",
      "|Ubon will sink th...| positive|\n",
      "|Interested in onl...|  neutral|\n",
      "|Then the warning ...| positive|\n",
      "|That always pushe...| negative|\n",
      "|This is our own h...| negative|\n",
      "+--------------------+---------+\n",
      "only showing top 5 rows\n",
      "\n"
     ]
    }
   ],
   "source": [
    "df.show(5)"
   ]
  },
  {
   "cell_type": "code",
   "execution_count": 23,
   "id": "806efa0f",
   "metadata": {},
   "outputs": [],
   "source": [
    "# Stages For the Pipeline\n",
    "tokenizer = Tokenizer(inputCol='tweet_text',outputCol='mytokens')\n",
    "stopwords_remover = StopWordsRemover(inputCol='mytokens',outputCol='filtered_tokens')\n",
    "vectorizer = CountVectorizer(inputCol='filtered_tokens',outputCol='rawFeatures')\n",
    "idf = IDF(inputCol='rawFeatures',outputCol='vectorizedFeatures')\n"
   ]
  },
  {
   "cell_type": "code",
   "execution_count": 24,
   "id": "c63eafd4",
   "metadata": {},
   "outputs": [],
   "source": [
    "# LabelEncoding/LabelIndexing\n",
    "labelEncoder = StringIndexer(inputCol='Sentiment',outputCol='label').fit(df)"
   ]
  },
  {
   "cell_type": "code",
   "execution_count": 25,
   "id": "b65969d6",
   "metadata": {},
   "outputs": [
    {
     "name": "stdout",
     "output_type": "stream",
     "text": [
      "+--------------------+---------+-----+\n",
      "|          tweet_text|Sentiment|label|\n",
      "+--------------------+---------+-----+\n",
      "|Ubon will sink th...| positive|  1.0|\n",
      "|Interested in onl...|  neutral|  2.0|\n",
      "|Then the warning ...| positive|  1.0|\n",
      "|That always pushe...| negative|  0.0|\n",
      "|This is our own h...| negative|  0.0|\n",
      "+--------------------+---------+-----+\n",
      "only showing top 5 rows\n",
      "\n"
     ]
    }
   ],
   "source": [
    "labelEncoder.transform(df).show(5)"
   ]
  },
  {
   "cell_type": "code",
   "execution_count": 26,
   "id": "895d63a3",
   "metadata": {},
   "outputs": [
    {
     "data": {
      "text/plain": [
       "['negative', 'positive', 'neutral']"
      ]
     },
     "execution_count": 26,
     "metadata": {},
     "output_type": "execute_result"
    }
   ],
   "source": [
    "labelEncoder.labels"
   ]
  },
  {
   "cell_type": "code",
   "execution_count": 27,
   "id": "74c2827d",
   "metadata": {},
   "outputs": [],
   "source": [
    "# Dict of Labels\n",
    "label_dict = {'negativet':0.0,\n",
    " 'positive':1.0,\n",
    " 'neutral':2.0}"
   ]
  },
  {
   "cell_type": "code",
   "execution_count": 28,
   "id": "9b2ed6f3",
   "metadata": {},
   "outputs": [
    {
     "name": "stdout",
     "output_type": "stream",
     "text": [
      "+--------------------+---------+\n",
      "|          tweet_text|Sentiment|\n",
      "+--------------------+---------+\n",
      "|Ubon will sink th...| positive|\n",
      "|Interested in onl...|  neutral|\n",
      "|Then the warning ...| positive|\n",
      "|That always pushe...| negative|\n",
      "|This is our own h...| negative|\n",
      "|When will the new...|  neutral|\n",
      "|The children are ...| positive|\n",
      "|Please leave. Gra...| negative|\n",
      "|Ubon floods today...| negative|\n",
      "|Repeatedly, the w...| negative|\n",
      "|What is the cut -...|  neutral|\n",
      "|Not a crosswalk, ...| negative|\n",
      "|Good work, very t...| positive|\n",
      "|As if we were for...| negative|\n",
      "|The floods of Ubo...| negative|\n",
      "|Help each other t...| positive|\n",
      "|Om, there are peo...| negative|\n",
      "|The water is near...| negative|\n",
      "|Pity everyone who...| positive|\n",
      "|Our own house has...| negative|\n",
      "+--------------------+---------+\n",
      "only showing top 20 rows\n",
      "\n"
     ]
    }
   ],
   "source": [
    "df.show()"
   ]
  },
  {
   "cell_type": "code",
   "execution_count": 29,
   "id": "113296b9",
   "metadata": {},
   "outputs": [],
   "source": [
    "df = labelEncoder.transform(df)"
   ]
  },
  {
   "cell_type": "code",
   "execution_count": 30,
   "id": "941456a3",
   "metadata": {},
   "outputs": [
    {
     "name": "stdout",
     "output_type": "stream",
     "text": [
      "+--------------------+---------+-----+\n",
      "|          tweet_text|Sentiment|label|\n",
      "+--------------------+---------+-----+\n",
      "|Ubon will sink th...| positive|  1.0|\n",
      "|Interested in onl...|  neutral|  2.0|\n",
      "|Then the warning ...| positive|  1.0|\n",
      "|That always pushe...| negative|  0.0|\n",
      "|This is our own h...| negative|  0.0|\n",
      "+--------------------+---------+-----+\n",
      "only showing top 5 rows\n",
      "\n"
     ]
    }
   ],
   "source": [
    "df.show(5)"
   ]
  },
  {
   "cell_type": "code",
   "execution_count": 31,
   "id": "53e62b37",
   "metadata": {},
   "outputs": [],
   "source": [
    "### Split Dataset\n",
    "(trainDF,testDF) = df.randomSplit((0.7,0.3),seed=42)"
   ]
  },
  {
   "cell_type": "code",
   "execution_count": 32,
   "id": "a63eeaa1",
   "metadata": {},
   "outputs": [
    {
     "name": "stdout",
     "output_type": "stream",
     "text": [
      "+--------------------+---------+-----+\n",
      "|          tweet_text|Sentiment|label|\n",
      "+--------------------+---------+-----+\n",
      "|A collection of l...| positive|  1.0|\n",
      "|A collection of l...| positive|  1.0|\n",
      "|A friend who live...| negative|  0.0|\n",
      "|A high angle phot...| positive|  1.0|\n",
      "|A little more is ...|  neutral|  2.0|\n",
      "|A lot already. Re...|  neutral|  2.0|\n",
      "|A minute of water...| positive|  1.0|\n",
      "|A nightmare of pe...| negative|  0.0|\n",
      "|A source of fun, ...| positive|  1.0|\n",
      "|Accepting applica...| positive|  1.0|\n",
      "|Accepting applica...| positive|  1.0|\n",
      "|Accepting new onl...| positive|  1.0|\n",
      "|Accepting people ...| positive|  1.0|\n",
      "|Accepting people ...| positive|  1.0|\n",
      "|According to the ...| positive|  1.0|\n",
      "|Acrylic keychain ...| positive|  1.0|\n",
      "|Actually, stop do...| negative|  0.0|\n",
      "|Agree, especially...| positive|  1.0|\n",
      "|         Ai Long Nai| positive|  1.0|\n",
      "|Amen, thank you, ...| positive|  1.0|\n",
      "+--------------------+---------+-----+\n",
      "only showing top 20 rows\n",
      "\n"
     ]
    }
   ],
   "source": [
    "trainDF.show()"
   ]
  },
  {
   "cell_type": "code",
   "execution_count": 33,
   "id": "5afa5879",
   "metadata": {},
   "outputs": [],
   "source": [
    "### Estimator\n",
    "from pyspark.ml.classification import LogisticRegression"
   ]
  },
  {
   "cell_type": "code",
   "execution_count": 34,
   "id": "6f74de19",
   "metadata": {},
   "outputs": [],
   "source": [
    "lr = LogisticRegression(featuresCol='vectorizedFeatures',labelCol='label')"
   ]
  },
  {
   "cell_type": "code",
   "execution_count": 35,
   "id": "910fc2e3",
   "metadata": {},
   "outputs": [],
   "source": [
    "from pyspark.ml import Pipeline"
   ]
  },
  {
   "cell_type": "code",
   "execution_count": 36,
   "id": "6eccd29e",
   "metadata": {},
   "outputs": [],
   "source": [
    "pipeline = Pipeline(stages=[tokenizer,stopwords_remover,vectorizer,idf,lr])"
   ]
  },
  {
   "cell_type": "code",
   "execution_count": 37,
   "id": "14f43c82",
   "metadata": {},
   "outputs": [
    {
     "data": {
      "text/plain": [
       "Pipeline_2e464be3aa14"
      ]
     },
     "execution_count": 37,
     "metadata": {},
     "output_type": "execute_result"
    }
   ],
   "source": [
    "pipeline"
   ]
  },
  {
   "cell_type": "code",
   "execution_count": 38,
   "id": "8083fff3",
   "metadata": {},
   "outputs": [
    {
     "data": {
      "text/plain": [
       "Param(parent='Pipeline_2e464be3aa14', name='stages', doc='a list of pipeline stages')"
      ]
     },
     "execution_count": 38,
     "metadata": {},
     "output_type": "execute_result"
    }
   ],
   "source": [
    "pipeline.stages"
   ]
  },
  {
   "cell_type": "code",
   "execution_count": 39,
   "id": "1f29593c",
   "metadata": {},
   "outputs": [],
   "source": [
    "# Building MOdel\n",
    "lr_model = pipeline.fit(trainDF)"
   ]
  },
  {
   "cell_type": "code",
   "execution_count": 40,
   "id": "1e18d12f",
   "metadata": {},
   "outputs": [
    {
     "data": {
      "text/plain": [
       "PipelineModel_1d0f26f414fd"
      ]
     },
     "execution_count": 40,
     "metadata": {},
     "output_type": "execute_result"
    }
   ],
   "source": [
    "lr_model"
   ]
  },
  {
   "cell_type": "code",
   "execution_count": 41,
   "id": "69dc3de5",
   "metadata": {},
   "outputs": [],
   "source": [
    "# Predictions on our Test Dataset\n",
    "predictions = lr_model.transform(testDF)"
   ]
  },
  {
   "cell_type": "code",
   "execution_count": 42,
   "id": "83b88d0c",
   "metadata": {},
   "outputs": [
    {
     "name": "stdout",
     "output_type": "stream",
     "text": [
      "+--------------------+---------+-----+--------------------+--------------------+--------------------+--------------------+--------------------+--------------------+----------+\n",
      "|          tweet_text|Sentiment|label|            mytokens|     filtered_tokens|         rawFeatures|  vectorizedFeatures|       rawPrediction|         probability|prediction|\n",
      "+--------------------+---------+-----+--------------------+--------------------+--------------------+--------------------+--------------------+--------------------+----------+\n",
      "|A collection of l...| positive|  1.0|[a, collection, o...|[collection, luck...|(3366,[0,10,12,23...|(3366,[0,10,12,23...|[-88.690654897357...|[2.53981429344405...|       1.0|\n",
      "|A little more wou...| positive|  1.0|[a, little, more,...|[little, like, bi...|(3366,[2,8,26,28,...|(3366,[2,8,26,28,...|[37.2588190055520...|[0.99999999838133...|       0.0|\n",
      "|A lot of Korean l...| positive|  1.0|[a, lot, of, kore...|[lot, korean, lab...|(3366,[12,81,98,2...|(3366,[12,81,98,2...|[-46.301836297621...|[2.83633450352977...|       1.0|\n",
      "|A lot of water. T...|  neutral|  2.0|[a, lot, of, wate...|[lot, water., yea...|(3366,[17,28,29,8...|(3366,[17,28,29,8...|[33.0319362091240...|[1.0,1.8899535613...|       0.0|\n",
      "|A warning tower t...| negative|  0.0|[a, warning, towe...|[warning, tower, ...|(3366,[38,57,83,1...|(3366,[38,57,83,1...|[3.96846330625873...|[1.65630549607841...|       2.0|\n",
      "|A warning tower t...| negative|  0.0|[a, warning, towe...|[warning, tower, ...|(3366,[0,6,57,83,...|(3366,[0,6,57,83,...|[50.5238498884101...|[1.0,2.8748485844...|       0.0|\n",
      "|A warning tower t...| positive|  1.0|[a, warning, towe...|[warning, tower, ...|(3366,[57,83,310,...|(3366,[57,83,310,...|[10.1211995230650...|[0.00663791222349...|       2.0|\n",
      "|Accepting new onl...|  neutral|  2.0|[accepting, new, ...|[accepting, new, ...|(3366,[48,117,250...|(3366,[48,117,250...|[-60.714281756053...|[2.71136616732977...|       1.0|\n",
      "|Accepting people ...|  neutral|  2.0|[accepting, peopl...|[accepting, peopl...|(3366,[4,23,32,48...|(3366,[4,23,32,48...|[-82.554068035531...|[6.70697279867096...|       1.0|\n",
      "|Accepting people ...| positive|  1.0|[accepting, peopl...|[accepting, peopl...|(3366,[4,14,250,4...|(3366,[4,14,250,4...|[-65.585432795322...|[5.73368571896820...|       1.0|\n",
      "|According to Je F...| positive|  1.0|[according, to, j...|[according, je, f...|(3366,[12,45,483,...|(3366,[12,45,483,...|[-46.234901059676...|[3.53246623739772...|       1.0|\n",
      "|Actually, the new...| positive|  1.0|[actually,, the, ...|[actually,, news,...|(3366,[7,706,1469...|(3366,[7,706,1469...|[20.7379169550231...|[0.99999999999405...|       0.0|\n",
      "|After coming, it ...| negative|  0.0|[after, coming,, ...|[coming,, useful,...|(3366,[145,347,16...|(3366,[145,347,16...|[-42.799251372,-7...|[2.26358148914457...|       2.0|\n",
      "|After going to co...| negative|  0.0|[after, going, to...|[going, court, to...|(3366,[19,45,46,7...|(3366,[19,45,46,7...|[55.6402061675363...|[1.0,4.6311138183...|       0.0|\n",
      "|             Ahhhhhh| positive|  1.0|           [ahhhhhh]|           [ahhhhhh]|        (3366,[],[])|        (3366,[],[])|[-40.792078570421...|[4.77041658549265...|       1.0|\n",
      "|Ai Long Nai, floo...| positive|  1.0|[ai, long, nai,, ...|[ai, long, nai,, ...|(3366,[0,5,152,69...|(3366,[0,5,152,69...|[-74.221655995575...|[3.97169634214130...|       1.0|\n",
      "|Almost couldn't g...| negative|  0.0|[almost, couldn't...|[almost, go,, flo...|(3366,[0,5,51,147...|(3366,[0,5,51,147...|[-15.094174990122...|[2.93240943632348...|       1.0|\n",
      "|Amkhong Chiam, wh...| positive|  1.0|[amkhong, chiam,,...|[amkhong, chiam,,...|(3366,[2,37,241,4...|(3366,[2,37,241,4...|[-97.189205384958...|[8.01188087684233...|       1.0|\n",
      "|And the body can ...| negative|  0.0|[and, the, body, ...|[body, that,, hel...|(3366,[1,161,563]...|(3366,[1,161,563]...|[-11.164502812288...|[2.55578596765005...|       1.0|\n",
      "|And the hospital ...| negative|  0.0|[and, the, hospit...|[hospital, intern...|(3366,[4,19,149,4...|(3366,[4,19,149,4...|[38.1297806328999...|[1.0,3.5651136110...|       0.0|\n",
      "+--------------------+---------+-----+--------------------+--------------------+--------------------+--------------------+--------------------+--------------------+----------+\n",
      "only showing top 20 rows\n",
      "\n"
     ]
    }
   ],
   "source": [
    "predictions.show()"
   ]
  },
  {
   "cell_type": "code",
   "execution_count": 43,
   "id": "93ff24ca",
   "metadata": {},
   "outputs": [
    {
     "data": {
      "text/plain": [
       "['tweet_text',\n",
       " 'Sentiment',\n",
       " 'label',\n",
       " 'mytokens',\n",
       " 'filtered_tokens',\n",
       " 'rawFeatures',\n",
       " 'vectorizedFeatures',\n",
       " 'rawPrediction',\n",
       " 'probability',\n",
       " 'prediction']"
      ]
     },
     "execution_count": 43,
     "metadata": {},
     "output_type": "execute_result"
    }
   ],
   "source": [
    "# Select Columns\n",
    "predictions.columns"
   ]
  },
  {
   "cell_type": "code",
   "execution_count": 44,
   "id": "8d0a0814",
   "metadata": {},
   "outputs": [
    {
     "name": "stdout",
     "output_type": "stream",
     "text": [
      "+--------------------+--------------------+---------+-----+----------+\n",
      "|       rawPrediction|         probability|Sentiment|label|prediction|\n",
      "+--------------------+--------------------+---------+-----+----------+\n",
      "|[-88.690654897357...|[2.53981429344405...| positive|  1.0|       1.0|\n",
      "|[37.2588190055520...|[0.99999999838133...| positive|  1.0|       0.0|\n",
      "|[-46.301836297621...|[2.83633450352977...| positive|  1.0|       1.0|\n",
      "|[33.0319362091240...|[1.0,1.8899535613...|  neutral|  2.0|       0.0|\n",
      "|[3.96846330625873...|[1.65630549607841...| negative|  0.0|       2.0|\n",
      "|[50.5238498884101...|[1.0,2.8748485844...| negative|  0.0|       0.0|\n",
      "|[10.1211995230650...|[0.00663791222349...| positive|  1.0|       2.0|\n",
      "|[-60.714281756053...|[2.71136616732977...|  neutral|  2.0|       1.0|\n",
      "|[-82.554068035531...|[6.70697279867096...|  neutral|  2.0|       1.0|\n",
      "|[-65.585432795322...|[5.73368571896820...| positive|  1.0|       1.0|\n",
      "+--------------------+--------------------+---------+-----+----------+\n",
      "only showing top 10 rows\n",
      "\n"
     ]
    }
   ],
   "source": [
    "predictions.select('rawPrediction','probability','Sentiment','label','prediction').show(10)"
   ]
  },
  {
   "cell_type": "code",
   "execution_count": 45,
   "id": "8b55d65a",
   "metadata": {},
   "outputs": [],
   "source": [
    "from pyspark.ml.evaluation import MulticlassClassificationEvaluator"
   ]
  },
  {
   "cell_type": "code",
   "execution_count": 46,
   "id": "fc6192ff",
   "metadata": {},
   "outputs": [],
   "source": [
    "evaluator = MulticlassClassificationEvaluator(labelCol='label',predictionCol='prediction',metricName='accuracy')"
   ]
  },
  {
   "cell_type": "code",
   "execution_count": 47,
   "id": "02cf7dbd",
   "metadata": {},
   "outputs": [],
   "source": [
    "accuracy = evaluator.evaluate(predictions)"
   ]
  },
  {
   "cell_type": "code",
   "execution_count": 48,
   "id": "c6f9df81",
   "metadata": {},
   "outputs": [
    {
     "data": {
      "text/plain": [
       "0.5851703406813628"
      ]
     },
     "execution_count": 48,
     "metadata": {},
     "output_type": "execute_result"
    }
   ],
   "source": [
    "accuracy"
   ]
  },
  {
   "cell_type": "code",
   "execution_count": 49,
   "id": "f6e2efdf",
   "metadata": {},
   "outputs": [],
   "source": [
    "#### Method 2: Precision. F1Score (Classification Report)\n",
    "from pyspark.mllib.evaluation import MulticlassMetrics"
   ]
  },
  {
   "cell_type": "code",
   "execution_count": 50,
   "id": "f4e7e407",
   "metadata": {},
   "outputs": [
    {
     "name": "stderr",
     "output_type": "stream",
     "text": [
      "C:\\spark\\python\\pyspark\\sql\\context.py:157: FutureWarning: Deprecated in 3.0.0. Use SparkSession.builder.getOrCreate() instead.\n",
      "  warnings.warn(\n"
     ]
    }
   ],
   "source": [
    "lr_metric = MulticlassMetrics(predictions['label','prediction'].rdd)"
   ]
  },
  {
   "cell_type": "code",
   "execution_count": 51,
   "id": "b19cc8fe",
   "metadata": {},
   "outputs": [
    {
     "name": "stdout",
     "output_type": "stream",
     "text": [
      "Accuracy: 0.5851703406813628\n",
      "Precision: 0.7536945812807881\n",
      "Recall: 0.6244897959183674\n",
      "F1Score: 0.6830357142857143\n"
     ]
    }
   ],
   "source": [
    "print(\"Accuracy:\",lr_metric.accuracy)\n",
    "print(\"Precision:\",lr_metric.precision(1.0))\n",
    "print(\"Recall:\",lr_metric.recall(1.0))\n",
    "print(\"F1Score:\",lr_metric.fMeasure(1.0))"
   ]
  },
  {
   "cell_type": "code",
   "execution_count": 52,
   "id": "37541bb3",
   "metadata": {},
   "outputs": [],
   "source": [
    "y_true = predictions.select('label')\n",
    "y_true = y_true.toPandas()\n",
    "y_pred = predictions.select('prediction')\n",
    "y_pred = y_pred.toPandas()"
   ]
  },
  {
   "cell_type": "code",
   "execution_count": 53,
   "id": "26b29a9c",
   "metadata": {},
   "outputs": [],
   "source": [
    "from sklearn.metrics import confusion_matrix,classification_report"
   ]
  },
  {
   "cell_type": "code",
   "execution_count": 54,
   "id": "2b54f2a9",
   "metadata": {},
   "outputs": [],
   "source": [
    "cm = confusion_matrix(y_true,y_pred)"
   ]
  },
  {
   "cell_type": "code",
   "execution_count": 55,
   "id": "915cb3c3",
   "metadata": {},
   "outputs": [
    {
     "data": {
      "text/plain": [
       "array([[115,  60,  52],\n",
       "       [ 22, 153,  28],\n",
       "       [ 13,  32,  24]], dtype=int64)"
      ]
     },
     "execution_count": 55,
     "metadata": {},
     "output_type": "execute_result"
    }
   ],
   "source": [
    "cm"
   ]
  },
  {
   "cell_type": "code",
   "execution_count": 56,
   "id": "2a9bed51",
   "metadata": {},
   "outputs": [],
   "source": [
    "import matplotlib.pyplot as plt\n",
    "import numpy as np\n",
    "import itertools\n",
    "\n",
    "def plot_confusion_matrix(cm, classes,\n",
    "                          normalize=False,\n",
    "                          title='Confusion matrix',\n",
    "                          cmap=plt.cm.Blues):\n",
    "    \"\"\"\n",
    "    This function prints and plots the confusion matrix.\n",
    "    Normalization can be applied by setting `normalize=True`.\n",
    "    \"\"\"\n",
    "    if normalize:\n",
    "        cm = cm.astype('float') / cm.sum(axis=1)[:, np.newaxis]\n",
    "        print(\"Normalized confusion matrix\")\n",
    "    else:\n",
    "        print('Confusion matrix, without normalization')\n",
    "\n",
    "    print(cm)\n",
    "\n",
    "    plt.imshow(cm, interpolation='nearest', cmap=cmap)\n",
    "    plt.title(title)\n",
    "    plt.colorbar()\n",
    "    tick_marks = np.arange(len(classes))\n",
    "    plt.xticks(tick_marks, classes, rotation=45)\n",
    "    plt.yticks(tick_marks, classes)\n",
    "\n",
    "    fmt = '.2f' if normalize else 'd'\n",
    "    thresh = cm.max() / 2.\n",
    "    for i, j in itertools.product(range(cm.shape[0]), range(cm.shape[1])):\n",
    "        plt.text(j, i, format(cm[i, j], fmt),\n",
    "                 horizontalalignment=\"center\",\n",
    "                 color=\"white\" if cm[i, j] > thresh else \"black\")\n",
    "\n",
    "    plt.tight_layout()\n",
    "    plt.ylabel('True label')\n",
    "    plt.xlabel('Predicted label')\n"
   ]
  },
  {
   "cell_type": "code",
   "execution_count": 57,
   "id": "c0e3f2ff",
   "metadata": {},
   "outputs": [
    {
     "data": {
      "text/plain": [
       "dict_keys(['negativet', 'positive', 'neutral'])"
      ]
     },
     "execution_count": 57,
     "metadata": {},
     "output_type": "execute_result"
    }
   ],
   "source": [
    "label_dict.keys()"
   ]
  },
  {
   "cell_type": "code",
   "execution_count": 58,
   "id": "7e3a8e79",
   "metadata": {},
   "outputs": [],
   "source": [
    "class_names = ['negativet', 'positive', 'neutral']"
   ]
  },
  {
   "cell_type": "code",
   "execution_count": 59,
   "id": "f9d865d5",
   "metadata": {},
   "outputs": [
    {
     "name": "stdout",
     "output_type": "stream",
     "text": [
      "Confusion matrix, without normalization\n",
      "[[115  60  52]\n",
      " [ 22 153  28]\n",
      " [ 13  32  24]]\n"
     ]
    },
    {
     "data": {
      "image/png": "[encoded data removed]",
      "text/plain": [
       "<Figure size 432x288 with 2 Axes>"
      ]
     },
     "metadata": {
      "needs_background": "light"
     },
     "output_type": "display_data"
    }
   ],
   "source": [
    "plot_confusion_matrix(cm,class_names)"
   ]
  },
  {
   "cell_type": "code",
   "execution_count": 60,
   "id": "587a3875",
   "metadata": {},
   "outputs": [],
   "source": [
    "import warnings\n",
    "warnings.filterwarnings('ignore')"
   ]
  },
  {
   "cell_type": "code",
   "execution_count": 61,
   "id": "22efd8f8",
   "metadata": {},
   "outputs": [
    {
     "name": "stdout",
     "output_type": "stream",
     "text": [
      "              precision    recall  f1-score   support\n",
      "\n",
      "         0.0       0.77      0.51      0.61       227\n",
      "         1.0       0.62      0.75      0.68       203\n",
      "         2.0       0.23      0.35      0.28        69\n",
      "\n",
      "    accuracy                           0.59       499\n",
      "   macro avg       0.54      0.54      0.52       499\n",
      "weighted avg       0.63      0.59      0.59       499\n",
      "\n"
     ]
    }
   ],
   "source": [
    "# Classication Report\n",
    "print(classification_report(y_true,y_pred))"
   ]
  },
  {
   "cell_type": "code",
   "execution_count": 62,
   "id": "74a53d4a",
   "metadata": {},
   "outputs": [
    {
     "name": "stdout",
     "output_type": "stream",
     "text": [
      "              precision    recall  f1-score   support\n",
      "\n",
      "   negativet       0.77      0.51      0.61       227\n",
      "    positive       0.62      0.75      0.68       203\n",
      "     neutral       0.23      0.35      0.28        69\n",
      "\n",
      "    accuracy                           0.59       499\n",
      "   macro avg       0.54      0.54      0.52       499\n",
      "weighted avg       0.63      0.59      0.59       499\n",
      "\n"
     ]
    }
   ],
   "source": [
    "# Classication Report\n",
    "print(classification_report(y_true,y_pred,target_names=class_names))"
   ]
  },
  {
   "cell_type": "code",
   "execution_count": 63,
   "id": "d2dbe2c6",
   "metadata": {},
   "outputs": [
    {
     "data": {
      "text/plain": [
       "<map at 0x20fcd36db20>"
      ]
     },
     "execution_count": 63,
     "metadata": {},
     "output_type": "execute_result"
    }
   ],
   "source": [
    "class_temp = predictions.select(\"label\").groupBy(\"label\")\\\n",
    "                        .count().sort('count', ascending=False).toPandas()\n",
    "class_temp = class_temp[\"label\"].values.tolist()\n",
    "class_names = map(str, class_temp)\n",
    "# # # print(class_name)\n",
    "class_names"
   ]
  },
  {
   "cell_type": "code",
   "execution_count": 64,
   "id": "70aefcb2",
   "metadata": {},
   "outputs": [],
   "source": [
    "from pyspark.sql.types import StringType"
   ]
  },
  {
   "cell_type": "code",
   "execution_count": 65,
   "id": "e1c0ed68",
   "metadata": {},
   "outputs": [],
   "source": [
    "ex1 = spark.createDataFrame([\n",
    "    (\"Building Machine Learning Apps with Python and PySpark\",StringType())\n",
    "],\n",
    "# Column Name\n",
    "[\"tweet_text\"]\n",
    "\n",
    ")"
   ]
  },
  {
   "cell_type": "code",
   "execution_count": 66,
   "id": "41b8a28d",
   "metadata": {},
   "outputs": [
    {
     "name": "stdout",
     "output_type": "stream",
     "text": [
      "+--------------------+---+\n",
      "|          tweet_text| _2|\n",
      "+--------------------+---+\n",
      "|Building Machine ...| {}|\n",
      "+--------------------+---+\n",
      "\n"
     ]
    }
   ],
   "source": [
    "ex1.show()"
   ]
  },
  {
   "cell_type": "code",
   "execution_count": 67,
   "id": "57bceb4d",
   "metadata": {},
   "outputs": [
    {
     "name": "stdout",
     "output_type": "stream",
     "text": [
      "+------------------------------------------------------+---+\n",
      "|tweet_text                                            |_2 |\n",
      "+------------------------------------------------------+---+\n",
      "|Building Machine Learning Apps with Python and PySpark|{} |\n",
      "+------------------------------------------------------+---+\n",
      "\n"
     ]
    }
   ],
   "source": [
    "# Show Full \n",
    "ex1.show(truncate=False)"
   ]
  },
  {
   "cell_type": "code",
   "execution_count": 68,
   "id": "05e76ca9",
   "metadata": {},
   "outputs": [],
   "source": [
    "# Predict\n",
    "pred_ex1 = lr_model.transform(ex1)"
   ]
  },
  {
   "cell_type": "code",
   "execution_count": null,
   "id": "285152c6",
   "metadata": {},
   "outputs": [],
   "source": []
  }
 ],
 "metadata": {
  "kernelspec": {
   "display_name": "Python 3 (ipykernel)",
   "language": "python",
   "name": "python3"
  },
  "language_info": {
   "codemirror_mode": {
    "name": "ipython",
    "version": 3
   },
   "file_extension": ".py",
   "mimetype": "text/x-python",
   "name": "python",
   "nbconvert_exporter": "python",
   "pygments_lexer": "ipython3",
   "version": "3.9.12"
  }
 },
 "nbformat": 4,
 "nbformat_minor": 5
}
